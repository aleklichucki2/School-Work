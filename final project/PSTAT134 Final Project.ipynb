{
 "cells": [
  {
   "cell_type": "code",
   "execution_count": 27,
   "metadata": {},
   "outputs": [],
   "source": [
    "%matplotlib inline\n",
    "import pandas as pd\n",
    "import numpy as np\n",
    "import json\n",
    "import math\n",
    "import matplotlib.pyplot as plt\n",
    "import seaborn as sns\n",
    "import statistics as stat\n",
    "from sklearn.metrics import r2_score"
   ]
  },
  {
   "cell_type": "code",
   "execution_count": 2,
   "metadata": {},
   "outputs": [],
   "source": [
    "dataset = pd.read_csv(\"this is killing me.csv\")\n",
    "#dataset.drop('Team' == 'TOT')\n",
    "team_dataset = dataset.set_index('Tm')\n",
    "d={}\n",
    "unique_teams = dataset['Tm'].unique()\n",
    "for i in unique_teams:\n",
    "    d[i] = team_dataset.loc[i]\n",
    "\n",
    "schedule_dataset = pd.read_csv(\"nba-2018-PacificStandardTime.csv\")"
   ]
  },
  {
   "cell_type": "code",
   "execution_count": 3,
   "metadata": {},
   "outputs": [],
   "source": [
    "team_scores = pd.DataFrame()\n",
    "for i in unique_teams: \n",
    "    team_scores.loc[i, \"Points\"] = d[i].PTS.sum()/82\n",
    "    team_scores.loc[i, \"Blocks\"] = d[i].BLK.sum()/82\n",
    "    team_scores.loc[i, \"Rebounds\"] = d[i].TRB.sum()/82\n",
    "    team_scores.loc[i, \"Assists\"] = d[i].AST.sum()/82\n",
    "    team_scores.loc[i, \"Turnovers\"] = d[i].TOV.sum()/82\n",
    "    team_scores.loc[i, \"Fouls\"] = d[i].PF.sum()/82\n",
    "    team_scores.loc[i, \"Free Throws Attempted\"] = d[i].FTA.sum()/82\n",
    "    team_scores.loc[i, \"Offensive Rebounds\"] = d[i].ORB.sum()/82\n",
    "\n",
    "    \n",
    "    \n",
    "winratio = [.598,.232,.354,.476,.232,.659,.585,.268,.610,.512,.207,\n",
    "           .646,.402,0,.585,.732,.402,.646,.707,.390,.512,.496,.476\n",
    "           ,.451,.439,.598,.695,.402,.585,.622,.5]    \n",
    "team_scores['Win Ratio'] = winratio"
   ]
  },
  {
   "cell_type": "code",
   "execution_count": 4,
   "metadata": {},
   "outputs": [],
   "source": [
    "hometeam = schedule_dataset.set_index('Home Team')\n",
    "team_sch_home={}\n",
    "sch_full = {}\n",
    "unique_teams2 = schedule_dataset[\"Home Team\"].unique()\n",
    "for i in unique_teams2:\n",
    "    team_sch_home[i] = hometeam.loc[i]\n",
    "    \n",
    "awayteam = schedule_dataset.set_index('Away Team')\n",
    "team_sch_away={}\n",
    "unique_teams3 = schedule_dataset[\"Away Team\"].unique()\n",
    "for i in unique_teams3:\n",
    "    team_sch_away[i] = awayteam.loc[i]"
   ]
  },
  {
   "cell_type": "code",
   "execution_count": null,
   "metadata": {},
   "outputs": [],
   "source": []
  },
  {
   "cell_type": "code",
   "execution_count": 5,
   "metadata": {},
   "outputs": [],
   "source": [
    "##Calculating Player Effiency Rating -- https://www.basketball-reference.com/about/per.html## \n",
    "def uPERFunc(MP, PTS, threepoint, AST, team_AST, team_FG , TOV, FGA, FG , FT, FTA , TRB , ORB , STL , BLK , PF):\n",
    "    #to avoid errors must get rid of zeros##\n",
    "    list = [MP, PTS, threepoint, AST, team_AST, team_FG , TOV, FGA, FG , FT, FTA , TRB , ORB , STL , BLK , PF]\n",
    "    \n",
    "    if MP <= 200 or min(list) == 0: \n",
    "        uPER = 0.22 #average\n",
    "    else:\n",
    "        factor = (2 / 3) - (0.5 * (math.log(AST) / math.log(FG))) / (2 * (math.log(FG) / math.log(FT)))\n",
    "        VOP = math.log(PTS) / (math.log(FGA) - math.log(ORB) + math.log(TOV) + 0.44 * math.log(FTA))\n",
    "        DRBpercent   = (math.log(TRB) - math.log(ORB)) / math.log(TRB)\n",
    "\n",
    "        uPER = (1 / MP) * ( threepoint + (2/3) * AST + (2 - factor * (team_AST / team_FG)) * FG \n",
    "                      + (FT *0.5 * (1 + (1 - (team_AST / team_FG)) + (2/3) * (team_AST / team_FG)))\n",
    "                      - VOP * TOV - VOP * DRBpercent * (FGA - FG) - VOP * 0.44 * (0.44 + (0.56 * DRBpercent))\n",
    "                      * (FTA - FT) + VOP * (1 - DRBpercent) * (TRB - ORB) + VOP * DRBpercent * ORB + VOP * STL\n",
    "                      + VOP * DRBpercent * BLK - PF * ((math.log(FT) / math.log(PF)) \n",
    "                                                       - 0.440 * ( math.log(FTA) / math.log(PF)) * VOP))\n",
    "    return(uPER*100); "
   ]
  },
  {
   "cell_type": "code",
   "execution_count": 6,
   "metadata": {},
   "outputs": [],
   "source": [
    "pd.options.mode.chained_assignment = None ## Getting rid of useless warning##\n",
    "unique_teams = dataset['Tm'].unique()\n",
    "for j in unique_teams:\n",
    "    d[j].fillna(0)\n",
    "    data = []\n",
    "    for i in range(len(d[j]['Player'])):\n",
    "        data.append(uPERFunc(d[j].iloc[i]['MP'],d[j].iloc[i]['PTS'], d[j].iloc[i]['3P%'],d[j].iloc[i]['AST'],\n",
    "                           d[j]['AST'].sum(), d[j]['FG'].sum(), d[j].iloc[i]['TOV'],\n",
    "                           d[j].iloc[i]['FGA'],d[j].iloc[i]['FG'],d[j].iloc[i]['FT'], \n",
    "                           d[j].iloc[i]['FTA'], d[j].iloc[i]['TRB'],d[j].iloc[i]['ORB'],\n",
    "                           d[j].iloc[i]['STL'], d[j].iloc[i]['BLK'],d[j].iloc[i]['PF'])) \n",
    "    d[j]['PER'] = data"
   ]
  },
  {
   "cell_type": "code",
   "execution_count": 7,
   "metadata": {},
   "outputs": [],
   "source": [
    "for i in unique_teams:\n",
    "    team_scores.loc[i, \"Alek Rating\"] = team_scores.loc[i, \"Points\"] + (2 * team_scores.loc[i, \"Blocks\"]) + team_scores.loc[i, \"Offensive Rebounds\"] -(2 * team_scores.loc[i, \"Fouls\"]) - (2 * team_scores.loc[i, \"Turnovers\"]) + team_scores.loc[i, \"Assists\"]\n",
    "    team_scores.loc[i,'PER - OFEK'] = d[i]['PER'].mean()"
   ]
  },
  {
   "cell_type": "code",
   "execution_count": 8,
   "metadata": {},
   "outputs": [],
   "source": [
    "def line_best_fit(x,y):\n",
    "    m = (((stat.mean(x)*stat.mean(y)) - stat.mean(x*y)) /\n",
    "         ((stat.mean(x)*stat.mean(x)) - stat.mean(x*x)))\n",
    "    \n",
    "    b = stat.mean(y) - m*stat.mean(x)\n",
    "    \n",
    "    return m, b"
   ]
  },
  {
   "cell_type": "code",
   "execution_count": 9,
   "metadata": {},
   "outputs": [
    {
     "data": {
      "text/plain": [
       "Text(73, 0.7, 'R squared =0.573')"
      ]
     },
     "execution_count": 9,
     "metadata": {},
     "output_type": "execute_result"
    },
    {
     "data": {
      "image/png": "[encoded data removed]",
      "text/plain": [
       "<Figure size 720x360 with 2 Axes>"
      ]
     },
     "metadata": {
      "needs_background": "light"
     },
     "output_type": "display_data"
    }
   ],
   "source": [
    "adjusted_team_scores = team_scores.drop('TOT') ## Getting rid of the crazy free agent team##\n",
    "\n",
    "fig, axes = plt.subplots(nrows=1, ncols=2, figsize=(10,5))\n",
    "\n",
    "plt.subplot(1, 2, 1)\n",
    "X = adjusted_team_scores['PER - OFEK']\n",
    "Y = adjusted_team_scores['Win Ratio']\n",
    "m, b = line_best_fit(X,Y)\n",
    "regression_line = [(m*x)+b for x in X]\n",
    "plt.scatter(X,Y,color='b')\n",
    "plt.plot(X, regression_line)\n",
    "plt.title('PER Scores compared to Win Ratio')\n",
    "plt.xlabel('PER Rating for Team')\n",
    "plt.ylabel('Win Ratio %')\n",
    "plt.annotate('R squared =' + str(round(r2_score(Y, regression_line),3)) , xy= (27.5,0.7))\n",
    "\n",
    "\n",
    "plt.subplot(1, 2, 2)\n",
    "X = adjusted_team_scores['Alek Rating']\n",
    "Y = adjusted_team_scores['Win Ratio']\n",
    "m, b = line_best_fit(X,Y)\n",
    "regression_line = [(m*x)+b for x in X]\n",
    "plt.scatter(X,Y,color='r')\n",
    "plt.plot(X, regression_line)\n",
    "plt.title('Alek Rating compared to Win Ratio')\n",
    "plt.xlabel('Alek Rating for Team')\n",
    "plt.ylabel('Win Ratio %')\n",
    "plt.annotate('R squared =' + str(round(r2_score(Y, regression_line),3)) , xy= (73,0.7)) "
   ]
  },
  {
   "cell_type": "code",
   "execution_count": 10,
   "metadata": {},
   "outputs": [],
   "source": [
    "division = ['W', 'W', 'E', 'E', 'E', 'W', 'W', 'E', 'W', 'E', 'E', 'W', 'W', 'NA', 'E', 'E', 'W', 'W', 'E', 'E', 'E', 'E', 'W', 'W', 'W', 'E', 'W', 'W', 'W', 'E', 'E']\n",
    "team_scores['Division'] = division\n",
    "\n",
    "#team_scores"
   ]
  },
  {
   "cell_type": "code",
   "execution_count": 42,
   "metadata": {},
   "outputs": [],
   "source": [
    "west = team_scores[team_scores['Division'] == 'W']\n",
    "west_alek = west.sort_values(by = ['Alek Rating'], ascending = False)\n",
    "#west_alek[0:8]"
   ]
  },
  {
   "cell_type": "code",
   "execution_count": 43,
   "metadata": {},
   "outputs": [],
   "source": [
    "west_ofek = west.sort_values(by = ['PER - OFEK'], ascending = False)\n",
    "#west_ofek[0:8]"
   ]
  },
  {
   "cell_type": "code",
   "execution_count": 44,
   "metadata": {},
   "outputs": [],
   "source": [
    "east = team_scores[team_scores['Division'] == 'E']\n",
    "east_alek = east.sort_values(by = ['Alek Rating'], ascending = False)\n",
    "#east_alek[0:8]"
   ]
  },
  {
   "cell_type": "code",
   "execution_count": 45,
   "metadata": {},
   "outputs": [],
   "source": [
    "east_ofek = east.sort_values(by = ['PER - OFEK'], ascending = False)\n",
    "#east_ofek[0:8]"
   ]
  },
  {
   "cell_type": "markdown",
   "metadata": {},
   "source": [
    "Final Playoff Standings 2018-19:\n",
    "\n",
    "West:\n",
    "\n",
    "    Alek: 1. GSW; 2. SAS; 3. NOP; 4. DEN; 5. MIN; 6. POR; 7. SAC; 8. OKC\n",
    "    \n",
    "    Ofek: 1. NOP; 2. POR; 3. GSW; 4. MIN; 5. SAS; 6. SAC; 7. DEN; 8. DAL\n",
    "    \n",
    "    Actual: 1. GSW; 2. DEN; 3. POR; 4. HOU; 5. UTA; 6. OKC; 7. SAS; 8. LAC\n",
    "    \n",
    "East:\n",
    "\n",
    "    Alek: 1. MIL; 2. BOS; 3. CHO; 4. PHI; 5. TOR; 6. ORL; 7. WAS; 8. IND\n",
    "    \n",
    "    Ofek: 1. CHO; 2. BOS; 3. IND; 4. WAS; 5. TOR; 6. MIA; 7. MIL; 8. ORL\n",
    "    \n",
    "    Actual: 1. MIL; 2. TOR; 3. PHI; 4. BOS; 5. IND; 6. BRK; 7. ORL; 8. DET"
   ]
  },
  {
   "cell_type": "code",
   "execution_count": 52,
   "metadata": {},
   "outputs": [],
   "source": [
    "rankedtotalsEastOFEK = east_ofek['PER - OFEK'].to_frame()\n",
    "rankedtotalsEastOFEK['Ranking Ofek'] = np.arange(len(rankedtotalsEastOFEK))+1\n",
    "ratingEast = rankedtotalsEastOFEK\n",
    "\n",
    "rankedtotalsEastALEK= east_alek['Alek Rating'].to_frame()\n",
    "rankedtotalsEastALEK['Ranking Alek'] = np.arange(len(rankedtotalsEastALEK))+1\n",
    "\n",
    "for i in rankedtotalsEastOFEK.index:\n",
    "    ratingEast.loc[i,'Ranking Alek'] = int(rankedtotalsEastALEK.loc[i,'Ranking Alek'])\n",
    "\n",
    "rankedtotalsWestOFEK = west_ofek['PER - OFEK'].to_frame()\n",
    "rankedtotalsWestOFEK['Ranking Ofek'] = np.arange(len(rankedtotalsWestOFEK))+1\n",
    "ratingWest = rankedtotalsWestOFEK\n",
    "\n",
    "rankedtotalsWestALEK= west_alek['Alek Rating'].to_frame()\n",
    "rankedtotalsWestALEK['Ranking Alek'] = np.arange(len(rankedtotalsWestALEK))+1\n",
    "\n",
    "for i in rankedtotalsWestOFEK.index:\n",
    "    ratingWest.loc[i,'Ranking Alek'] = int(rankedtotalsWestALEK.loc[i,'Ranking Alek'])\n",
    "    \n",
    "ratingWest['Actual Standing'] = [3,12,13,10,4,15,14,1,5,2,8,11,7,9,6]\n",
    "ratingEast['Actual Standing'] = [1,12,8,6,5,14,4,2,3,7,11,10,9,13,15]\n"
   ]
  },
  {
   "cell_type": "code",
   "execution_count": 53,
   "metadata": {},
   "outputs": [
    {
     "data": {
      "image/png": "[encoded data removed]",
      "text/plain": [
       "<Figure size 432x288 with 1 Axes>"
      ]
     },
     "metadata": {
      "needs_background": "light"
     },
     "output_type": "display_data"
    }
   ],
   "source": [
    "# set width of bar\n",
    "barWidth = 0.25\n",
    "\n",
    "# set height of bar\n",
    "bars1 = ratingWest['Ranking Ofek'][0:8]\n",
    "bars2 = ratingWest['Ranking Alek'][0:8]\n",
    "bars3 = ratingWest['Actual Standing'][0:8]\n",
    "\n",
    "# Set position of bar on X axis\n",
    "r1 = np.arange(len(bars1))\n",
    "r2 = [x + barWidth for x in r1]\n",
    "r3 = [x + barWidth for x in r2]\n",
    "\n",
    "# Make the plot\n",
    "plt.bar(r1, bars1, color='r', width=barWidth, edgecolor='white', label='Ofek Ranking')\n",
    "plt.bar(r2, bars2, color='b', width=barWidth, edgecolor='white', label='Alek Ranking')\n",
    "plt.bar(r3, bars3, color='g', width=barWidth, edgecolor='white', label='Actual Ranking')\n",
    "\n",
    "# Add xticks on the middle of the group bars\n",
    "plt.xlabel('Teams', fontweight='bold')\n",
    "plt.xticks([r + barWidth for r in range(len(bars1))], ratingWest.index.values)\n",
    "plt.yticks(np.arange(0, 18, step=1))\n",
    "plt.ylabel('Predicted Standing', fontweight='bold')\n",
    "plt.title('Predicted Standings of West Teams 2018-2019', fontweight = 'bold')\n",
    "# Create legend & Show graphic\n",
    "plt.legend()\n",
    "plt.show()"
   ]
  },
  {
   "cell_type": "code",
   "execution_count": 54,
   "metadata": {},
   "outputs": [
    {
     "data": {
      "image/png": "[encoded data removed]",
      "text/plain": [
       "<Figure size 432x288 with 1 Axes>"
      ]
     },
     "metadata": {
      "needs_background": "light"
     },
     "output_type": "display_data"
    }
   ],
   "source": [
    "# set width of bar\n",
    "barWidth = 0.25\n",
    "\n",
    "# set height of bar\n",
    "bars1 = ratingEast['Ranking Ofek'][0:8]\n",
    "bars2 = ratingEast['Ranking Alek'][0:8]\n",
    "bars3 = ratingEast['Actual Standing'][0:8]\n",
    " \n",
    "# Set position of bar on X axis\n",
    "r1 = np.arange(len(bars1))\n",
    "r2 = [x + barWidth for x in r1]\n",
    "r3 = [x + barWidth for x in r2]\n",
    " \n",
    "# Make the plot\n",
    "plt.bar(r1, bars1, color='r', width=barWidth, edgecolor='white', label='Ofek Ranking')\n",
    "plt.bar(r2, bars2, color='b', width=barWidth, edgecolor='white', label='Alek Ranking')\n",
    "plt.bar(r3, bars3, color='g', width=barWidth, edgecolor='white', label='Actual Ranking')\n",
    "\n",
    "\n",
    "# Add xticks on the middle of the group bars\n",
    "plt.xlabel('Teams', fontweight='bold')\n",
    "plt.xticks([r + barWidth for r in range(len(bars1))], ratingEast.index.values)\n",
    "plt.yticks(np.arange(0, 20, step=1))\n",
    "plt.ylabel('Predicted Standing', fontweight='bold')\n",
    "plt.title('Predicted Standings of East Teams 2018-2019', fontweight = 'bold')\n",
    "# Create legend & Show graphic\n",
    "plt.legend()\n",
    "plt.show()"
   ]
  },
  {
   "cell_type": "code",
   "execution_count": 15,
   "metadata": {},
   "outputs": [],
   "source": [
    "#predicting for the 2019-20 season based off of their current stats\n",
    "data_19 = pd.read_csv(\"nba_19_20_2.csv\")"
   ]
  },
  {
   "cell_type": "code",
   "execution_count": 16,
   "metadata": {},
   "outputs": [],
   "source": [
    "team_19 = data_19.set_index('Tm')\n",
    "team_19\n",
    "unique_teams_19 = data_19['Tm'].unique()\n",
    "team_19_2 = team_19[team_19['G'] > 10]\n",
    "c = {}\n",
    "for i in unique_teams_19:\n",
    "    c[i] = team_19_2.loc[i]\n",
    "    \n",
    "for i in unique_teams_19:\n",
    "    c[i]['Total Min'] = c[i]['MP'] * c[i]['G']"
   ]
  },
  {
   "cell_type": "code",
   "execution_count": 17,
   "metadata": {},
   "outputs": [],
   "source": [
    "for j in unique_teams_19:\n",
    "    c[j].fillna(0)\n",
    "    data = []\n",
    "    for i in range(len(c[j]['Player'])):\n",
    "        data.append(uPERFunc(c[j].iloc[i]['Total Min'],c[j].iloc[i]['PTS']*c[j].iloc[i]['G'], c[j].iloc[i]['3P%'],c[j].iloc[i]['AST'],\n",
    "                           c[j]['AST'].sum()*c[j].iloc[i]['G'], c[j]['FG'].sum()*c[j].iloc[i]['G'], c[j].iloc[i]['TOV']*c[j].iloc[i]['G'],\n",
    "                           c[j].iloc[i]['FGA']*c[j].iloc[i]['G'],c[j].iloc[i]['FG']*c[j].iloc[i]['G'],c[j].iloc[i]['FT']*c[j].iloc[i]['G'], \n",
    "                           c[j].iloc[i]['FTA']*c[j].iloc[i]['G'], c[j].iloc[i]['TRB']*c[j].iloc[i]['G'],c[j].iloc[i]['ORB']*c[j].iloc[i]['G'],\n",
    "                           c[j].iloc[i]['STL']*c[j].iloc[i]['G'], c[j].iloc[i]['BLK']*c[j].iloc[i]['G'],c[j].iloc[i]['PF']*c[j].iloc[i]['G'])) \n",
    "    c[j]['PER'] = data"
   ]
  },
  {
   "cell_type": "code",
   "execution_count": 18,
   "metadata": {},
   "outputs": [],
   "source": [
    "totals_19 = pd.DataFrame()\n",
    "for i in unique_teams_19: \n",
    "    totals_19.loc[i, \"Points\"] = c[i].PTS.sum()\n",
    "    totals_19.loc[i, \"Blocks\"] = c[i].BLK.sum()\n",
    "    totals_19.loc[i, \"Rebounds\"] = c[i].TRB.sum()\n",
    "    totals_19.loc[i, \"Assists\"] = c[i].AST.sum()\n",
    "    totals_19.loc[i, \"Turnovers\"] = c[i].TOV.sum()\n",
    "    totals_19.loc[i, \"Fouls\"] = c[i].PF.sum()\n",
    "    totals_19.loc[i, \"Free Throws Attempted\"] = c[i].FTA.sum()\n",
    "    totals_19.loc[i, \"Offensive Rebounds\"] = c[i].ORB.sum()\n",
    "    \n",
    "for i in unique_teams_19:\n",
    "    totals_19.loc[i, \"Alek Rating\"] = totals_19.loc[i, \"Points\"] + (2 * totals_19.loc[i, \"Blocks\"]) + totals_19.loc[i, \"Offensive Rebounds\"] -(2 * totals_19.loc[i, \"Fouls\"]) - (2 * totals_19.loc[i, \"Turnovers\"]) + totals_19.loc[i, \"Assists\"]\n",
    "    totals_19.loc[i,'PER - OFEK'] = c[i]['PER'].mean()\n",
    "    \n",
    "divisions_19 = ['W', 'E', 'W', 'W', 'W', 'E', 'E', 'E', 'W', 'E', 'W', 'W', 'E', 'E', 'W', 'W', 'E', 'W', 'W', 'W', 'E', 'E', 'W', 'E', 'W', 'E', 'E', 'W', 'E', 'E']\n",
    "totals_19['Division'] = divisions_19\n",
    "\n",
    "#totals_19"
   ]
  },
  {
   "cell_type": "code",
   "execution_count": 49,
   "metadata": {},
   "outputs": [],
   "source": [
    "west = totals_19[totals_19['Division'] == 'W']\n",
    "west_alek = west.sort_values(by = ['Alek Rating'], ascending = False)\n",
    "#west_alek[0:8]"
   ]
  },
  {
   "cell_type": "code",
   "execution_count": 48,
   "metadata": {},
   "outputs": [],
   "source": [
    "west_ofek = west.sort_values(by = ['PER - OFEK'], ascending = False)\n",
    "#west_ofek[0:8]"
   ]
  },
  {
   "cell_type": "code",
   "execution_count": 47,
   "metadata": {},
   "outputs": [],
   "source": [
    "east = totals_19[totals_19['Division'] == 'E']\n",
    "east_alek = east.sort_values(by = ['Alek Rating'], ascending = False)\n",
    "#east_alek[0:8]"
   ]
  },
  {
   "cell_type": "code",
   "execution_count": 46,
   "metadata": {},
   "outputs": [],
   "source": [
    "east_ofek = east.sort_values(by = ['PER - OFEK'], ascending = False)\n",
    "#east_ofek[0:8]"
   ]
  },
  {
   "cell_type": "code",
   "execution_count": 34,
   "metadata": {},
   "outputs": [],
   "source": [
    "rankedtotalsEastOFEK = east_ofek['PER - OFEK'].to_frame()\n",
    "rankedtotalsEastOFEK['Ranking Ofek'] = np.arange(len(rankedtotalsEastOFEK))+1\n",
    "ratingEast = rankedtotalsEastOFEK\n",
    "\n",
    "rankedtotalsEastALEK= east_alek['Alek Rating'].to_frame()\n",
    "rankedtotalsEastALEK['Ranking Alek'] = np.arange(len(rankedtotalsEastALEK))+1\n",
    "\n",
    "for i in rankedtotalsEastOFEK.index:\n",
    "    ratingEast.loc[i,'Ranking Alek'] = int(rankedtotalsEastALEK.loc[i,'Ranking Alek'])\n",
    "\n",
    "rankedtotalsWestOFEK = west_ofek['PER - OFEK'].to_frame()\n",
    "rankedtotalsWestOFEK['Ranking Ofek'] = np.arange(len(rankedtotalsWestOFEK))+1\n",
    "ratingWest = rankedtotalsWestOFEK\n",
    "\n",
    "rankedtotalsWestALEK= west_alek['Alek Rating'].to_frame()\n",
    "rankedtotalsWestALEK['Ranking Alek'] = np.arange(len(rankedtotalsWestALEK))+1\n",
    "\n",
    "for i in rankedtotalsWestOFEK.index:\n",
    "    ratingWest.loc[i,'Ranking Alek'] = int(rankedtotalsWestALEK.loc[i,'Ranking Alek'])\n",
    "    \n",
    "ratingWest['Actual Standing'] = [3,12,13,10,4,15,14,1,5,2,8,11,7,9,6]\n",
    "ratingEast['Actual Standing'] = [1,12,8,6,5,14,4,2,3,7,11,10,9,13,15]"
   ]
  },
  {
   "cell_type": "code",
   "execution_count": 41,
   "metadata": {},
   "outputs": [
    {
     "data": {
      "image/png": "[encoded data removed]",
      "text/plain": [
       "<Figure size 432x288 with 1 Axes>"
      ]
     },
     "metadata": {
      "needs_background": "light"
     },
     "output_type": "display_data"
    }
   ],
   "source": [
    "# set width of bar\n",
    "barWidth = 0.25\n",
    "\n",
    "# set height of bar\n",
    "bars1 = ratingWest['Ranking Ofek'][0:8]\n",
    "bars2 = ratingWest['Ranking Alek'][0:8]\n",
    "bars3 = ratingWest['Actual Standing'][0:8]\n",
    "\n",
    " \n",
    "# Set position of bar on X axis\n",
    "r1 = np.arange(len(bars1))\n",
    "r2 = [x + barWidth for x in r1]\n",
    "r3 = [x + barWidth for x in r2]\n",
    "\n",
    " \n",
    "# Make the plot\n",
    "plt.bar(r1, bars1, color='r', width=barWidth, edgecolor='white', label='Ofek Ranking')\n",
    "plt.bar(r2, bars2, color='b', width=barWidth, edgecolor='white', label='Alek Ranking')\n",
    "plt.bar(r3, bars3, color='g', width=barWidth, edgecolor='white', label='Actual Ranking')\n",
    "\n",
    "\n",
    " \n",
    "# Add xticks on the middle of the group bars\n",
    "plt.xlabel('Teams', fontweight='bold')\n",
    "plt.xticks([r + barWidth for r in range(len(bars1))], ratingWest.index.values)\n",
    "plt.yticks(np.arange(0, 18, step=1))\n",
    "plt.ylabel('Predicted Standing', fontweight='bold')\n",
    "plt.title('Predicted Standings of West Teams 2019-2020', fontweight = 'bold')\n",
    "# Create legend & Show graphic\n",
    "plt.legend()\n",
    "plt.show()"
   ]
  },
  {
   "cell_type": "code",
   "execution_count": 40,
   "metadata": {},
   "outputs": [
    {
     "data": {
      "image/png": "[encoded data removed]",
      "text/plain": [
       "<Figure size 432x288 with 1 Axes>"
      ]
     },
     "metadata": {
      "needs_background": "light"
     },
     "output_type": "display_data"
    }
   ],
   "source": [
    "# set width of bar\n",
    "barWidth = 0.25\n",
    "\n",
    "# set height of bar\n",
    "bars1 = ratingEast['Ranking Ofek'][0:8]\n",
    "bars2 = ratingEast['Ranking Alek'][0:8]\n",
    "bars3 = ratingEast['Actual Standing'][0:8]\n",
    " \n",
    "# Set position of bar on X axis\n",
    "r1 = np.arange(len(bars1))\n",
    "r2 = [x + barWidth for x in r1]\n",
    "r3 = [x + barWidth for x in r2]\n",
    " \n",
    "# Make the plot\n",
    "plt.bar(r1, bars1, color='r', width=barWidth, edgecolor='white', label='Ofek Ranking')\n",
    "plt.bar(r2, bars2, color='b', width=barWidth, edgecolor='white', label='Alek Ranking')\n",
    "plt.bar(r3, bars3, color='g', width=barWidth, edgecolor='white', label='Actual Ranking')\n",
    "\n",
    "\n",
    "# Add xticks on the middle of the group bars\n",
    "plt.xlabel('Teams', fontweight='bold')\n",
    "plt.xticks([r + barWidth for r in range(len(bars1))], ratingEast.index.values)\n",
    "plt.yticks(np.arange(0, 20, step=1))\n",
    "plt.ylabel('Predicted Standing', fontweight='bold')\n",
    "plt.title('Predicted Standings of East Teams 2019-2020', fontweight = 'bold')\n",
    "# Create legend & Show graphic\n",
    "plt.legend()\n",
    "plt.show()"
   ]
  },
  {
   "cell_type": "code",
   "execution_count": null,
   "metadata": {},
   "outputs": [],
   "source": []
  }
 ],
 "metadata": {
  "kernelspec": {
   "display_name": "Python 3",
   "language": "python",
   "name": "python3"
  },
  "language_info": {
   "codemirror_mode": {
    "name": "ipython",
    "version": 3
   },
   "file_extension": ".py",
   "mimetype": "text/x-python",
   "name": "python",
   "nbconvert_exporter": "python",
   "pygments_lexer": "ipython3",
   "version": "3.7.3"
  },
  "toc": {
   "base_numbering": 1,
   "nav_menu": {},
   "number_sections": true,
   "sideBar": true,
   "skip_h1_title": false,
   "title_cell": "Table of Contents",
   "title_sidebar": "Contents",
   "toc_cell": false,
   "toc_position": {},
   "toc_section_display": true,
   "toc_window_display": false
  }
 },
 "nbformat": 4,
 "nbformat_minor": 2
}
